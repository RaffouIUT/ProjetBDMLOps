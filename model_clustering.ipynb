{
 "cells": [
  {
   "cell_type": "code",
   "execution_count": null,
   "metadata": {},
   "outputs": [],
   "source": []
  },
  {
   "cell_type": "markdown",
   "metadata": {},
   "source": [
    "***Fichier de création du model K-mean***"
   ]
  },
  {
   "cell_type": "markdown",
   "metadata": {},
   "source": [
    "*chargement des données depuis MongoDB*"
   ]
  },
  {
   "cell_type": "code",
   "execution_count": 1,
   "metadata": {},
   "outputs": [
    {
     "name": "stdout",
     "output_type": "stream",
     "text": [
      "             Nom du dépôt                                             Topics  \\\n",
      "0            freeCodeCamp  ['learn-to-code', 'nonprofits', 'programming',...   \n",
      "1  free-programming-books  ['education', 'books', 'list', 'resource', 'ha...   \n",
      "2                 awesome  ['awesome', 'awesome-list', 'unicorns', 'lists...   \n",
      "3        build-your-own-x  ['programming', 'tutorials', 'tutorial-code', ...   \n",
      "4             public-apis  ['api', 'public-apis', 'free', 'apis', 'list',...   \n",
      "\n",
      "                                         Description  \\\n",
      "0  freeCodeCamp.org's open-source codebase and cu...   \n",
      "1         :books: Freely available programming books   \n",
      "2  😎 Awesome lists about all kinds of interesting...   \n",
      "3  Master programming by recreating your favorite...   \n",
      "4                     A collective list of free APIs   \n",
      "\n",
      "                                              README  \\\n",
      "0  freeCodeCamp.org's open-source codebase and cu...   \n",
      "1  List of Free Learning Resources In Many Langua...   \n",
      "2  Check out my macOS app\\nSupercharge\\nElevate y...   \n",
      "3  Build your own <insert-technology-here>\\nThis ...   \n",
      "4  Try Public APIs for free\\nThe Public APIs repo...   \n",
      "\n",
      "                                       combined_text  \n",
      "0  freeCodeCamp  freeCodeCamp.org's open-source c...  \n",
      "1  free-programming-books  :books: Freely availab...  \n",
      "2  awesome  😎 Awesome lists about all kinds of in...  \n",
      "3  build-your-own-x  Master programming by recrea...  \n",
      "4  public-apis  A collective list of free APIs Tr...  \n",
      "(1048, 5)\n"
     ]
    }
   ],
   "source": [
    "from pymongo import MongoClient\n",
    "import pandas as pd\n",
    "\n",
    "# Connexion à MongoDB\n",
    "client = MongoClient(\"mongodb://localhost:27018\")\n",
    "db = client[\"my_database\"]\n",
    "collection = db[\"my_collection\"]\n",
    "\n",
    "# Charger les données\n",
    "data = list(collection.find({}, {\"_id\": 0, \"Nom du dépôt\": 1, \"Topics\": 1, \"Description\": 1, \"README\": 1}))\n",
    "\n",
    "# Convertir en DataFrame Pandas\n",
    "df = pd.DataFrame(data)\n",
    "df[\"combined_text\"] = df[\"Nom du dépôt\"] + \" \" + df[\"Topics\"].apply(lambda x: \" \".join(x) if isinstance(x, list) else \"\") + \" \" + df[\"Description\"] + \" \" + df[\"README\"]\n",
    "print(df.head())\n",
    "print(df.shape)\n"
   ]
  },
  {
   "cell_type": "markdown",
   "metadata": {},
   "source": [
    "*Prétraiter les données textuelles*"
   ]
  },
  {
   "cell_type": "code",
   "execution_count": 2,
   "metadata": {},
   "outputs": [
    {
     "name": "stderr",
     "output_type": "stream",
     "text": [
      "[nltk_data] Downloading package stopwords to\n",
      "[nltk_data]     C:\\Users\\leono\\AppData\\Roaming\\nltk_data...\n",
      "[nltk_data]   Package stopwords is already up-to-date!\n"
     ]
    }
   ],
   "source": [
    "import re\n",
    "from sklearn.feature_extraction.text import TfidfVectorizer\n",
    "from nltk.corpus import stopwords\n",
    "import nltk\n",
    "\n",
    "# Télécharger les stopwords de nltk\n",
    "nltk.download('stopwords')\n",
    "stop_words = set(stopwords.words('english'))\n",
    "\n",
    "# Fonction de nettoyage\n",
    "def clean_text(text):\n",
    "    text = text.lower()  # Convertir en minuscules\n",
    "    text = re.sub(r'[^\\w\\s]', '', text)  # Supprimer la ponctuation\n",
    "    text = re.sub(r'\\d+', '', text)  # Supprimer les chiffres\n",
    "    tokens = text.split()  # Tokeniser\n",
    "    tokens = [word for word in tokens if word not in stop_words]  # Supprimer les stopwords\n",
    "    return \" \".join(tokens)\n",
    "\n",
    "# Appliquer le nettoyage\n",
    "df[\"cleaned_text\"] = df[\"combined_text\"].apply(clean_text)\n"
   ]
  },
  {
   "cell_type": "markdown",
   "metadata": {},
   "source": [
    "*Transformer le texte en vecteurs d'embedding*"
   ]
  },
  {
   "cell_type": "code",
   "execution_count": 3,
   "metadata": {},
   "outputs": [
    {
     "data": {
      "application/vnd.jupyter.widget-view+json": {
       "model_id": "1278f43681d946578669b7d3bacbf878",
       "version_major": 2,
       "version_minor": 0
      },
      "text/plain": [
       "modules.json:   0%|          | 0.00/349 [00:00<?, ?B/s]"
      ]
     },
     "metadata": {},
     "output_type": "display_data"
    },
    {
     "name": "stderr",
     "output_type": "stream",
     "text": [
      "C:\\Users\\leono\\AppData\\Roaming\\Python\\Python311\\site-packages\\huggingface_hub\\file_download.py:139: UserWarning: `huggingface_hub` cache-system uses symlinks by default to efficiently store duplicated files but your machine does not support them in C:\\Users\\leono\\.cache\\huggingface\\hub\\models--sentence-transformers--all-MiniLM-L6-v2. Caching files will still work but in a degraded version that might require more space on your disk. This warning can be disabled by setting the `HF_HUB_DISABLE_SYMLINKS_WARNING` environment variable. For more details, see https://huggingface.co/docs/huggingface_hub/how-to-cache#limitations.\n",
      "To support symlinks on Windows, you either need to activate Developer Mode or to run Python as an administrator. In order to activate developer mode, see this article: https://docs.microsoft.com/en-us/windows/apps/get-started/enable-your-device-for-development\n",
      "  warnings.warn(message)\n"
     ]
    },
    {
     "data": {
      "application/vnd.jupyter.widget-view+json": {
       "model_id": "2b31f73a8e3b4791a62a8d765a3b5081",
       "version_major": 2,
       "version_minor": 0
      },
      "text/plain": [
       "config_sentence_transformers.json:   0%|          | 0.00/116 [00:00<?, ?B/s]"
      ]
     },
     "metadata": {},
     "output_type": "display_data"
    },
    {
     "data": {
      "application/vnd.jupyter.widget-view+json": {
       "model_id": "32faf1f90e5e421bbd2a267070e71560",
       "version_major": 2,
       "version_minor": 0
      },
      "text/plain": [
       "README.md:   0%|          | 0.00/10.5k [00:00<?, ?B/s]"
      ]
     },
     "metadata": {},
     "output_type": "display_data"
    },
    {
     "data": {
      "application/vnd.jupyter.widget-view+json": {
       "model_id": "50118e6e0a974151a69696339502f24e",
       "version_major": 2,
       "version_minor": 0
      },
      "text/plain": [
       "sentence_bert_config.json:   0%|          | 0.00/53.0 [00:00<?, ?B/s]"
      ]
     },
     "metadata": {},
     "output_type": "display_data"
    },
    {
     "data": {
      "application/vnd.jupyter.widget-view+json": {
       "model_id": "ec1dffbbb9fc4f7c859a6a83c45906fb",
       "version_major": 2,
       "version_minor": 0
      },
      "text/plain": [
       "config.json:   0%|          | 0.00/612 [00:00<?, ?B/s]"
      ]
     },
     "metadata": {},
     "output_type": "display_data"
    },
    {
     "data": {
      "application/vnd.jupyter.widget-view+json": {
       "model_id": "b5845f8b73ba478783689ecdff791044",
       "version_major": 2,
       "version_minor": 0
      },
      "text/plain": [
       "model.safetensors:   0%|          | 0.00/90.9M [00:00<?, ?B/s]"
      ]
     },
     "metadata": {},
     "output_type": "display_data"
    },
    {
     "data": {
      "application/vnd.jupyter.widget-view+json": {
       "model_id": "90ffb579106d4f6781bd2e8d1925732a",
       "version_major": 2,
       "version_minor": 0
      },
      "text/plain": [
       "tokenizer_config.json:   0%|          | 0.00/350 [00:00<?, ?B/s]"
      ]
     },
     "metadata": {},
     "output_type": "display_data"
    },
    {
     "data": {
      "application/vnd.jupyter.widget-view+json": {
       "model_id": "e161ff10a2834729bea88a0af48d72e1",
       "version_major": 2,
       "version_minor": 0
      },
      "text/plain": [
       "vocab.txt:   0%|          | 0.00/232k [00:00<?, ?B/s]"
      ]
     },
     "metadata": {},
     "output_type": "display_data"
    },
    {
     "data": {
      "application/vnd.jupyter.widget-view+json": {
       "model_id": "ea8a547082a64971a546a5bf66c1ac8c",
       "version_major": 2,
       "version_minor": 0
      },
      "text/plain": [
       "tokenizer.json:   0%|          | 0.00/466k [00:00<?, ?B/s]"
      ]
     },
     "metadata": {},
     "output_type": "display_data"
    },
    {
     "data": {
      "application/vnd.jupyter.widget-view+json": {
       "model_id": "efbcc62f5a934174b46c6c254b490dac",
       "version_major": 2,
       "version_minor": 0
      },
      "text/plain": [
       "special_tokens_map.json:   0%|          | 0.00/112 [00:00<?, ?B/s]"
      ]
     },
     "metadata": {},
     "output_type": "display_data"
    },
    {
     "data": {
      "application/vnd.jupyter.widget-view+json": {
       "model_id": "23f3432abdc04f90b6bcb3f9ce3ca049",
       "version_major": 2,
       "version_minor": 0
      },
      "text/plain": [
       "config.json:   0%|          | 0.00/190 [00:00<?, ?B/s]"
      ]
     },
     "metadata": {},
     "output_type": "display_data"
    }
   ],
   "source": [
    "#Avec TfidfVectorizer\n",
    "vectorizer = TfidfVectorizer(max_features=5000)  # Limite les dimensions\n",
    "X1 = vectorizer.fit_transform(df[\"cleaned_text\"]).toarray()\n",
    "\n",
    "#Avec sentence-transformers\n",
    "from sentence_transformers import SentenceTransformer\n",
    "\n",
    "# Charger un modèle de Sentence Transformers - embeddings plus riches\n",
    "model = SentenceTransformer('all-MiniLM-L6-v2')\n",
    "\n",
    "# Convertir les textes en embeddings\n",
    "X = model.encode(df[\"cleaned_text\"].tolist())"
   ]
  },
  {
   "cell_type": "markdown",
   "metadata": {},
   "source": [
    "*Appliquer l'algorithme K-Means*"
   ]
  },
  {
   "cell_type": "code",
   "execution_count": 4,
   "metadata": {},
   "outputs": [
    {
     "name": "stdout",
     "output_type": "stream",
     "text": [
      "Le nombre optimal de clusters selon l'analyse de silhouette est : 2\n"
     ]
    },
    {
     "name": "stderr",
     "output_type": "stream",
     "text": [
      "2025/03/06 18:39:55 WARNING mlflow.models.model: Model logged without a signature and input example. Please set `input_example` parameter when logging the model to auto infer the model signature.\n"
     ]
    },
    {
     "name": "stdout",
     "output_type": "stream",
     "text": [
      "Modèle K-Means enregistré avec MLflow !\n",
      "🏃 View run gentle-crab-991 at: http://localhost:5000/#/experiments/1/runs/33fa895f35984f84bc3b6cb8c7799005\n",
      "🧪 View experiment at: http://localhost:5000/#/experiments/1\n"
     ]
    }
   ],
   "source": [
    "import mlflow\n",
    "import mlflow.sklearn\n",
    "from sklearn.cluster import KMeans\n",
    "from sklearn.metrics import silhouette_score\n",
    "import matplotlib.pyplot as plt\n",
    "import os\n",
    "\n",
    "\n",
    "\n",
    "mlflow.set_tracking_uri(\"http://localhost:5000\")\n",
    "\n",
    "# Initialiser MLflow\n",
    "mlflow.set_experiment(\"KMeans Clustering Experiment\")\n",
    "\n",
    "os.environ[\"OMP_NUM_THREADS\"] = \"1\"  # Éviter les erreurs de leak de mémoire\n",
    "\n",
    "# Déterminer le nombre optimal de clusters avec la silhouette analysis\n",
    "silhouette_scores = []\n",
    "inertia = []\n",
    "K = range(2, min(10, X.shape[0] + 1))  # Limiter K au nombre d'échantillons\n",
    "\n",
    "\n",
    "with mlflow.start_run():\n",
    "    for k in K:\n",
    "        kmeans = KMeans(n_clusters=k, random_state=42)\n",
    "        labels = kmeans.fit_predict(X)\n",
    "        score = silhouette_score(X, labels)\n",
    "        \n",
    "        silhouette_scores.append(score)\n",
    "        inertia.append(kmeans.inertia_)\n",
    "\n",
    "        # Enregistrer les métriques dans MLflow\n",
    "        mlflow.log_metric(f\"silhouette_score_k{k}\", score)\n",
    "        mlflow.log_metric(f\"inertia_k{k}\", kmeans.inertia_)\n",
    "\n",
    "    # Tracer la courbe d'inertie et l'enregistrer\n",
    "    plt.figure(figsize=(8, 5))\n",
    "    plt.plot(K, inertia, marker='o')\n",
    "    plt.xlabel('Nombre de clusters (k)')\n",
    "    plt.ylabel('Inertie')\n",
    "    plt.title('Méthode du coude pour choisir k')\n",
    "    plt.savefig(\"mlruns/elbow_method.png\")\n",
    "    mlflow.log_artifact(\"mlruns/elbow_method.png\")  # Enregistrer l’image dans MLflow\n",
    "    plt.close()\n",
    "\n",
    "    # Tracer le score de silhouette et l'enregistrer\n",
    "    plt.figure(figsize=(8, 5))\n",
    "    plt.plot(K, silhouette_scores, marker='o')\n",
    "    plt.xlabel('Nombre de clusters (k)')\n",
    "    plt.ylabel('Score de silhouette')\n",
    "    plt.title('Analyse de silhouette pour choisir k')\n",
    "    plt.savefig(\"mlruns/silhouette_analysis.png\")\n",
    "    mlflow.log_artifact(\"mlruns/silhouette_analysis.png\")  # Enregistrer l’image dans MLflow\n",
    "    plt.close()\n",
    "\n",
    "    # Trouver le k optimal\n",
    "    optimal_k = K[silhouette_scores.index(max(silhouette_scores))]\n",
    "    mlflow.log_param(\"optimal_k\", optimal_k)  # Enregistrer k optimal\n",
    "\n",
    "    print(f\"Le nombre optimal de clusters selon l'analyse de silhouette est : {optimal_k}\")\n",
    "\n",
    "    # Appliquer K-Means avec le k optimal\n",
    "    kmeans = KMeans(n_clusters=optimal_k, random_state=42)\n",
    "    df[\"cluster\"] = kmeans.fit_predict(X)\n",
    "\n",
    "    # Enregistrer le modèle K-Means dans MLflow\n",
    "    mlflow.sklearn.log_model(kmeans, \"KMeans_Model\")\n",
    "\n",
    "    print(\"Modèle K-Means enregistré avec MLflow !\")"
   ]
  },
  {
   "cell_type": "markdown",
   "metadata": {},
   "source": [
    "*Interpréter les résultats*"
   ]
  },
  {
   "cell_type": "code",
   "execution_count": 9,
   "metadata": {},
   "outputs": [
    {
     "name": "stdout",
     "output_type": "stream",
     "text": [
      "\n",
      "Cluster 0:\n",
      "                Nom du dépôt\n",
      "0               freeCodeCamp\n",
      "1     free-programming-books\n",
      "2                    awesome\n",
      "3           build-your-own-x\n",
      "4                public-apis\n",
      "...                      ...\n",
      "1043                   aider\n",
      "1044               firecrawl\n",
      "1045                  crewAI\n",
      "1046                 ghostty\n",
      "1047                it-tools\n",
      "\n",
      "[939 rows x 1 columns]\n",
      "\n",
      "Cluster 1:\n",
      "                      Nom du dépôt\n",
      "30                        CS-Notes\n",
      "38                 Python-100-Days\n",
      "41                       JavaGuide\n",
      "48               fucking-algorithm\n",
      "57    free-programming-books-zh_CN\n",
      "...                            ...\n",
      "978       everyone-can-use-english\n",
      "983                   fe-interview\n",
      "1005                 toBeTopJavaer\n",
      "1015                         v2ray\n",
      "1042                        hutool\n",
      "\n",
      "[109 rows x 1 columns]\n"
     ]
    }
   ],
   "source": [
    "# Afficher les données regroupées par cluster\n",
    "for cluster in range(optimal_k):\n",
    "    print(f\"\\nCluster {cluster}:\")\n",
    "    print(df[df[\"cluster\"] == cluster][[\"Nom du dépôt\"]])\n"
   ]
  },
  {
   "cell_type": "markdown",
   "metadata": {},
   "source": [
    "*Visualisation*"
   ]
  },
  {
   "cell_type": "code",
   "execution_count": 9,
   "metadata": {},
   "outputs": [
    {
     "data": {
      "image/png": "[encoded data removed]",
      "text/plain": [
       "<Figure size 1000x700 with 1 Axes>"
      ]
     },
     "metadata": {},
     "output_type": "display_data"
    }
   ],
   "source": [
    "from sklearn.manifold import TSNE\n",
    "import matplotlib.pyplot as plt\n",
    "\n",
    "# Vérifier la taille des données\n",
    "n_samples = X.shape[0]\n",
    "perplexity = min(30, n_samples - 1)  # La perplexité doit être inférieure au nombre d'échantillons\n",
    "\n",
    "# Réduction de dimensions\n",
    "tsne = TSNE(n_components=2, random_state=42, perplexity=perplexity)\n",
    "X_2d = tsne.fit_transform(X)\n",
    "\n",
    "# Tracer les clusters\n",
    "plt.figure(figsize=(10, 7))\n",
    "for cluster in range(optimal_k):\n",
    "    plt.scatter(X_2d[df[\"cluster\"] == cluster, 0], X_2d[df[\"cluster\"] == cluster, 1], label=f\"Cluster {cluster}\")\n",
    "\n",
    "plt.legend()\n",
    "plt.title(\"Clusters K-Means sur les données textuelles avec TSNE\")\n",
    "plt.show()\n"
   ]
  },
  {
   "cell_type": "code",
   "execution_count": 8,
   "metadata": {},
   "outputs": [
    {
     "data": {
      "image/png": "[encoded data removed]",
      "text/plain": [
       "<Figure size 1000x700 with 1 Axes>"
      ]
     },
     "metadata": {},
     "output_type": "display_data"
    }
   ],
   "source": [
    "from sklearn.decomposition import PCA\n",
    "\n",
    "# Réduction de dimensions avec PCA\n",
    "pca = PCA(n_components=2)\n",
    "X_2d = pca.fit_transform(X)\n",
    "\n",
    "# Tracer les clusters\n",
    "plt.figure(figsize=(10, 7))\n",
    "for cluster in range(optimal_k):\n",
    "    plt.scatter(X_2d[df[\"cluster\"] == cluster, 0], X_2d[df[\"cluster\"] == cluster, 1], label=f\"Cluster {cluster}\")\n",
    "\n",
    "plt.legend()\n",
    "plt.title(\"Clusters K-Means avec PCA\")\n",
    "plt.show()\n"
   ]
  },
  {
   "cell_type": "markdown",
   "metadata": {},
   "source": [
    "*Mise en place des résulats sur MongoDB*"
   ]
  },
  {
   "cell_type": "code",
   "execution_count": null,
   "metadata": {},
   "outputs": [],
   "source": []
  },
  {
   "cell_type": "code",
   "execution_count": 13,
   "metadata": {},
   "outputs": [],
   "source": [
    "#print(X,\"\\n\")\n",
    "#print(df[\"cleaned_text\"].head())"
   ]
  },
  {
   "cell_type": "markdown",
   "metadata": {},
   "source": [
    "***Fichier du model de création de thème par cluster***"
   ]
  },
  {
   "cell_type": "code",
   "execution_count": 30,
   "metadata": {},
   "outputs": [
    {
     "name": "stdout",
     "output_type": "stream",
     "text": [
      "0    [[-0.04226326, -0.09738073, -0.035897266, 0.07...\n",
      "1    [[-0.04226326, -0.09738073, -0.035897266, 0.07...\n",
      "2    [[-0.04226326, -0.09738073, -0.035897266, 0.07...\n",
      "3    [[-0.04226326, -0.09738073, -0.035897266, 0.07...\n",
      "4    [[-0.04226326, -0.09738073, -0.035897266, 0.07...\n",
      "Name: cluster_embedding, dtype: object\n",
      "0    [-0.026728151, -0.051684767, -0.010649066, -0....\n",
      "1    [-0.026728151, -0.051684767, -0.010649066, -0....\n",
      "2    [-0.026728151, -0.051684767, -0.010649066, -0....\n",
      "3    [-0.026728151, -0.051684767, -0.010649066, -0....\n",
      "4    [-0.026728151, -0.051684767, -0.010649066, -0....\n",
      "Name: cluster_centroid, dtype: object\n"
     ]
    }
   ],
   "source": [
    "import numpy as np\n",
    "\n",
    "# Exemple : Liste des vecteurs d'embedding et des clusters\n",
    "# X est une matrice d'embedding où chaque ligne correspond à un vecteur\n",
    "# df['cluster'] contient les étiquettes des clusters\n",
    "clusters = df[\"cluster\"].unique()\n",
    "cluster_embeddings = {cluster: X[df[\"cluster\"] == cluster] for cluster in clusters}\n",
    "\n",
    "# Calculer le vecteur central pour chaque cluster\n",
    "cluster_centroids = {\n",
    "    cluster: np.mean(embeddings, axis=0)\n",
    "    for cluster, embeddings in cluster_embeddings.items()\n",
    "}\n",
    "\n",
    "df[\"cluster_embedding\"] = df[\"cluster\"].apply(lambda x: cluster_embeddings[x])\n",
    "print(df[\"cluster_embedding\"].head())\n",
    "df[\"cluster_centroid\"] = df[\"cluster\"].apply(lambda x: cluster_centroids[x])\n",
    "print(df[\"cluster_centroid\"].head())\n"
   ]
  },
  {
   "cell_type": "code",
   "execution_count": 33,
   "metadata": {},
   "outputs": [
    {
     "name": "stdout",
     "output_type": "stream",
     "text": [
      "Thèmes des clusters :\n",
      "Cluster 0: build\n",
      "Cluster 1: python\n"
     ]
    }
   ],
   "source": [
    "import numpy as np\n",
    "from sentence_transformers import SentenceTransformer\n",
    "from sklearn.feature_extraction.text import TfidfVectorizer\n",
    "\n",
    "# Charger le modèle Sentence Transformers\n",
    "sentence_model = SentenceTransformer('all-MiniLM-L6-v2')\n",
    "\n",
    "# Initialiser le dictionnaire des thèmes\n",
    "cluster_themes = {}\n",
    "\n",
    "# Regrouper les textes par cluster\n",
    "cluster_texts = {cluster: df[df[\"cluster\"] == cluster][\"cleaned_text\"].tolist() for cluster in clusters}\n",
    "\n",
    "for cluster, texts in cluster_texts.items():\n",
    "    # Appliquer TF-IDF pour extraire les mots-clés les plus importants du cluster\n",
    "    vectorizer = TfidfVectorizer(stop_words=\"english\", max_df=0.7, min_df=2, ngram_range=(1, 1))\n",
    "    tfidf_matrix = vectorizer.fit_transform(texts)\n",
    "    feature_names = vectorizer.get_feature_names_out()\n",
    "\n",
    "    # Moyenne des scores TF-IDF pour identifier les mots dominants\n",
    "    tfidf_scores = np.mean(tfidf_matrix.toarray(), axis=0)\n",
    "    top_indices = np.argsort(tfidf_scores)[::-1][:10]  # Prendre les 10 meilleurs mots\n",
    "    top_keywords = [feature_names[i] for i in top_indices]\n",
    "\n",
    "    # Vérification que des mots-clés existent\n",
    "    if not top_keywords:\n",
    "        cluster_themes[cluster] = \"Unknown\"\n",
    "        continue\n",
    "\n",
    "    # Encoder les mots-clés en embeddings\n",
    "    keyword_embeddings = sentence_model.encode(top_keywords)  # (10, 384)\n",
    "\n",
    "    # Calculer le centroïde du cluster\n",
    "    centroid = np.mean(cluster_embeddings[cluster], axis=0)  # Doit être (384,)\n",
    "\n",
    "    # Calculer le produit scalaire entre chaque mot-clé et le centroïde\n",
    "    similarities = np.dot(keyword_embeddings, centroid)\n",
    "\n",
    "    # Sélectionner le mot le plus représentatif\n",
    "    best_keyword_index = np.argmax(similarities)\n",
    "    best_keyword = top_keywords[best_keyword_index]\n",
    "\n",
    "    # Vérification que ce mot est distinct des autres clusters\n",
    "    other_centroids = [cluster_centroids[c] for c in clusters if c != cluster]\n",
    "    other_similarities = [np.dot(sentence_model.encode(best_keyword), c) for c in other_centroids]\n",
    "\n",
    "    # Si le mot est trop proche d'un autre cluster, prendre le second meilleur\n",
    "    if max(other_similarities) > 0.8:\n",
    "        similarities[best_keyword_index] = -1  # Exclure ce choix\n",
    "        best_keyword_index = np.argmax(similarities)\n",
    "        best_keyword = top_keywords[best_keyword_index]\n",
    "\n",
    "    cluster_themes[cluster] = best_keyword\n",
    "\n",
    "# Affichage des thèmes des clusters\n",
    "print(\"Thèmes des clusters :\")\n",
    "for cluster, theme in cluster_themes.items():\n",
    "    print(f\"Cluster {cluster}: {theme}\")\n"
   ]
  },
  {
   "cell_type": "markdown",
   "metadata": {},
   "source": [
    "Génération avec thèmes imposés"
   ]
  },
  {
   "cell_type": "code",
   "execution_count": 31,
   "metadata": {},
   "outputs": [
    {
     "name": "stdout",
     "output_type": "stream",
     "text": [
      "Thèmes des clusters :\n",
      "Cluster 0: web\n",
      "Cluster 1: Python\n"
     ]
    }
   ],
   "source": [
    "from sentence_transformers import SentenceTransformer\n",
    "\n",
    "# Charger un modèle Sentence Transformers\n",
    "sentence_model = SentenceTransformer('all-MiniLM-L6-v2')\n",
    "\n",
    "# Liste de mots de vocabulaire potentiellement pertinents (vous pouvez personnaliser)\n",
    "vocabulary = [ \"API\", \"machine learning\", \"JavaScript\", \"Python\", \"database\", \"web\"]\n",
    "\n",
    "# Embeddings des mots du vocabulaire\n",
    "vocabulary_embeddings = sentence_model.encode(vocabulary)\n",
    "\n",
    "# Trouver le mot le plus proche pour chaque cluster\n",
    "cluster_themes = {}\n",
    "for cluster, centroid in cluster_centroids.items():\n",
    "    similarities = np.dot(vocabulary_embeddings, centroid)  # Produit scalaire\n",
    "    best_match_index = np.argmax(similarities)  # Indice du mot le plus proche\n",
    "    cluster_themes[cluster] = vocabulary[best_match_index]\n",
    "\n",
    "print(\"Thèmes des clusters :\")\n",
    "for cluster, theme in cluster_themes.items():\n",
    "    print(f\"Cluster {cluster}: {theme}\")"
   ]
  },
  {
   "cell_type": "markdown",
   "metadata": {},
   "source": [
    "Génération avec thèmes récupérés des données"
   ]
  },
  {
   "cell_type": "code",
   "execution_count": 13,
   "metadata": {},
   "outputs": [
    {
     "name": "stdout",
     "output_type": "stream",
     "text": [
      "Thèmes des clusters :\n",
      "Cluster 0: code\n",
      "Cluster 1: python\n"
     ]
    }
   ],
   "source": [
    "import numpy as np\n",
    "from sklearn.feature_extraction.text import TfidfVectorizer\n",
    "from sentence_transformers import SentenceTransformer\n",
    "\n",
    "# Charger un modèle Sentence Transformers\n",
    "sentence_model = SentenceTransformer('all-MiniLM-L6-v2')\n",
    "\n",
    "# Fonction pour extraire des mots-clés des données du cluster\n",
    "def extract_keywords_from_cluster(data, top_n=5):\n",
    "    \"\"\"\n",
    "    Extrait les mots-clés les plus pertinents d'un cluster à l'aide de TF-IDF.\n",
    "    \"\"\"\n",
    "    #vectorizer = TfidfVectorizer(stop_words='english')  # Enlever les mots courants comme \"the\", \"and\"\n",
    "    tfidf_matrix = vectorizer.fit_transform(data)  # Calculer les scores TF-IDF\n",
    "    feature_names = vectorizer.get_feature_names_out()\n",
    "    \n",
    "    # Moyenne des scores TF-IDF pour tous les documents\n",
    "    tfidf_scores = np.mean(tfidf_matrix.toarray(), axis=0)\n",
    "    \n",
    "    # Récupérer les mots avec les scores les plus élevés\n",
    "    top_indices = np.argsort(tfidf_scores)[::-1][:top_n]\n",
    "    top_keywords = [feature_names[i] for i in top_indices]\n",
    "    return top_keywords\n",
    "\n",
    "\n",
    "cluster_themes = {}\n",
    "cluster_data = df[\"cleaned_text\"].groupby(df[\"cluster\"]).apply(list).to_dict()\n",
    "\n",
    "\n",
    "# Trouver le thème le plus proche pour chaque cluster\n",
    "for cluster, texts in cluster_data.items():\n",
    "    # Extraire des mots-clés depuis les textes du cluster\n",
    "    keywords = extract_keywords_from_cluster(texts)\n",
    "    \n",
    "    # Calculer les embeddings des mots-clés extraits\n",
    "    keyword_embeddings = sentence_model.encode(keywords)\n",
    "    \n",
    "    # Centroid du cluster (remplacez-le par le centroid calculé si disponible)\n",
    "    centroid = np.mean(sentence_model.encode(texts), axis=0)  # Moyenne des embeddings des textes\n",
    "    \n",
    "    # Trouver le mot-clé le plus proche du centroïde\n",
    "    similarities = np.dot(keyword_embeddings, centroid)  # Produit scalaire\n",
    "    best_match_index = np.argmax(similarities)\n",
    "    cluster_themes[cluster] = keywords[best_match_index]\n",
    "\n",
    "print(\"Thèmes des clusters :\")\n",
    "for cluster, theme in cluster_themes.items():\n",
    "    print(f\"Cluster {cluster}: {theme}\")\n"
   ]
  },
  {
   "cell_type": "code",
   "execution_count": null,
   "metadata": {},
   "outputs": [],
   "source": []
  },
  {
   "cell_type": "markdown",
   "metadata": {},
   "source": [
    "Mise a jour bdd avec les thèmes"
   ]
  },
  {
   "cell_type": "code",
   "execution_count": null,
   "metadata": {},
   "outputs": [],
   "source": [
    "from pymongo import MongoClient\n",
    "\n",
    "# Connexion à MongoDB\n",
    "client = MongoClient(\"mongodb://localhost:27018\")\n",
    "db = client[\"my_database\"]\n",
    "collection = db[\"my_collection\"]\n",
    "\n",
    "# Charger les données\n",
    "data = list(collection.find({}, {\"_id\": 1, \"Nom du dépôt\": 1}))  # On garde _id pour la mise à jour\n",
    "\n",
    "# Associer chaque dépôt à son cluster\n",
    "depot_clusters = df.set_index(\"Nom du dépôt\")[\"cluster\"].to_dict()\n",
    "\n",
    "# Mettre à jour chaque dépôt avec son thème\n",
    "for doc in data:\n",
    "    depot_name = doc[\"Nom du dépôt\"]\n",
    "    \n",
    "    # Vérifier si le dépôt appartient à un cluster\n",
    "    if depot_name in depot_clusters:\n",
    "        cluster = depot_clusters[depot_name]\n",
    "        theme = cluster_themes.get(cluster, \"Inconnu\")  # Récupérer le thème du cluster\n",
    "        \n",
    "        # Mise à jour dans MongoDB\n",
    "        collection.update_one(\n",
    "            {\"_id\": doc[\"_id\"]}, \n",
    "            {\"$set\": {\"Thème\": theme}}\n",
    "        )\n",
    "\n",
    "print(\"Mise à jour de la base MongoDB terminée.\")\n"
   ]
  },
  {
   "cell_type": "markdown",
   "metadata": {},
   "source": [
    "compararaison, vérification du score de silhouette et ajout de la nouvelle données"
   ]
  },
  {
   "cell_type": "code",
   "execution_count": null,
   "metadata": {},
   "outputs": [],
   "source": [
    "# Récupérer les centroïdes des clusters (préalablement calculés)\n",
    "clusters = list(cluster_centroids.keys())  # Liste des clusters\n",
    "centroids = np.array([cluster_centroids[c] for c in clusters])  # Matrice des centroïdes\n",
    "\n",
    "def classify_new_data(nom_depot, topics, description, readme):\n",
    "    \"\"\"\n",
    "    Classe une nouvelle donnée dans le cluster le plus proche.\n",
    "    \"\"\"\n",
    "    # Concaténer les informations textuelles\n",
    "    text = f\"{nom_depot} {', '.join(topics)} {description} {readme}\"\n",
    "\n",
    "    # Transformer en embedding\n",
    "    new_embedding = sentence_model.encode(text)\n",
    "\n",
    "    # Comparer avec les centroïdes via produit scalaire (plus rapide que cosinus)\n",
    "    similarities = np.dot(centroids, new_embedding)\n",
    "\n",
    "    # Trouver le cluster le plus proche\n",
    "    best_cluster_index = np.argmax(similarities)\n",
    "    best_cluster = clusters[best_cluster_index]\n",
    "\n",
    "    # Mettre à jour MongoDB avec le cluster attribué\n",
    "    collection.update_one(\n",
    "        {\"Nom du dépôt\": nom_depot}, \n",
    "        {\"$set\": {\"Cluster\": best_cluster}}\n",
    "    )\n",
    "\n",
    "    print(f\"Le dépôt '{nom_depot}' a été classé dans le cluster {best_cluster}.\")"
   ]
  },
  {
   "cell_type": "code",
   "execution_count": null,
   "metadata": {},
   "outputs": [],
   "source": [
    "import numpy as np\n",
    "from sentence_transformers import SentenceTransformer\n",
    "from pymongo import MongoClient\n",
    "from sklearn.cluster import KMeans\n",
    "from sklearn.metrics import silhouette_score\n",
    "\n",
    "# Charger le modèle Sentence Transformers\n",
    "sentence_model = SentenceTransformer('all-MiniLM-L6-v2')\n",
    "\n",
    "# Connexion à MongoDB\n",
    "client = MongoClient(\"mongodb://localhost:27018\")\n",
    "db = client[\"my_database\"]\n",
    "collection = db[\"my_collection\"]\n",
    "\n",
    "# Fonction pour récupérer toutes les embeddings et clusters actuels\n",
    "def get_current_data():\n",
    "    \"\"\"\n",
    "    Charge les embeddings et les clusters actuels depuis MongoDB.\n",
    "    \"\"\"\n",
    "    data = list(collection.find({}, {\"_id\": 1, \"Nom du dépôt\": 1, \"Cluster\": 1}))\n",
    "    names = [d[\"Nom du dépôt\"] for d in data]\n",
    "    \n",
    "    embeddings = np.array([cluster_embeddings[d[\"Cluster\"]] for d in data])  # Matrice d'embeddings\n",
    "    cluster_labels = np.array([d[\"Cluster\"] for d in data])  # Labels des clusters\n",
    "    \n",
    "    return data, names, embeddings, cluster_labels\n",
    "\n",
    "# Fonction pour classifier une nouvelle donnée\n",
    "def classify_new_data(nom_depot, topics, description, readme):\n",
    "    \"\"\"\n",
    "    Classe une nouvelle donnée dans le cluster le plus proche et met à jour MongoDB.\n",
    "    \"\"\"\n",
    "    # Charger les clusters actuels\n",
    "    clusters = list(cluster_centroids.keys())\n",
    "    centroids = np.array([cluster_centroids[c] for c in clusters])  # Matrice des centroïdes\n",
    "\n",
    "    # Concaténer les textes\n",
    "    text = f\"{nom_depot} {', '.join(topics)} {description} {readme}\"\n",
    "    new_embedding = sentence_model.encode(text)\n",
    "\n",
    "    # Trouver le cluster le plus proche (produit scalaire)\n",
    "    similarities = np.dot(centroids, new_embedding)\n",
    "    best_cluster_index = np.argmax(similarities)\n",
    "    best_cluster = clusters[best_cluster_index]\n",
    "\n",
    "    # Mettre à jour MongoDB avec le cluster attribué\n",
    "    collection.update_one({\"Nom du dépôt\": nom_depot}, {\"$set\": {\"Cluster\": best_cluster}})\n",
    "    \n",
    "    print(f\"Le dépôt '{nom_depot}' a été classé dans le cluster {best_cluster}.\")\n",
    "\n",
    "    # Vérifier si le score de silhouette est mauvais après l'ajout\n",
    "    check_silhouette_and_recluster()\n",
    "\n",
    "# Fonction pour recalculer les clusters si le score de silhouette est mauvais\n",
    "def check_silhouette_and_recluster(threshold=0.4, n_clusters=5):\n",
    "    \"\"\"\n",
    "    Vérifie le score de silhouette des clusters et recalcule les clusters si le score est mauvais.\n",
    "    \"\"\"\n",
    "    _, names, embeddings, _ = get_current_data()\n",
    "\n",
    "    # Vérifier si on a assez de données pour le score de silhouette\n",
    "    if len(embeddings) < 2:\n",
    "        print(\"Pas assez de données pour calculer le score de silhouette.\")\n",
    "        return\n",
    "    \n",
    "    # Calculer le score de silhouette\n",
    "    kmeans_labels = np.array([depot_clusters.get(name, -1) for name in names])  # Récupérer les labels actuels\n",
    "    score = silhouette_score(embeddings, kmeans_labels)\n",
    "\n",
    "    print(f\"Score de silhouette actuel : {score}\")\n",
    "\n",
    "    # Si le score est trop bas, recalculer le clustering\n",
    "    if score < threshold:\n",
    "        print(\"Score trop bas, recalcul du clustering...\")\n",
    "\n",
    "        # Recalculer K-Means\n",
    "        kmeans = KMeans(n_clusters=n_clusters, random_state=42, n_init=10)\n",
    "        new_labels = kmeans.fit_predict(embeddings)\n",
    "\n",
    "        # Mettre à jour MongoDB avec les nouveaux clusters\n",
    "        for name, new_cluster in zip(names, new_labels):\n",
    "            collection.update_one({\"Nom du dépôt\": name}, {\"$set\": {\"Cluster\": int(new_cluster)}})\n",
    "\n",
    "        # Mettre à jour les centroïdes des clusters\n",
    "        global cluster_centroids, cluster_embeddings\n",
    "        cluster_centroids = {i: kmeans.cluster_centers_[i] for i in range(n_clusters)}\n",
    "        cluster_embeddings = {i: embeddings[new_labels == i] for i in range(n_clusters)}\n",
    "\n",
    "        print(\"Nouveaux clusters recalculés et mis à jour.\")\n",
    "\n",
    "# Exemple d'ajout d'une nouvelle donnée\n",
    "new_data = {\n",
    "    \"Nom du dépôt\": \"nouveau_projet\",\n",
    "    \"Topics\": [\"deep-learning\", \"tensorflow\"],\n",
    "    \"Description\": \"Un projet de deep learning avec TensorFlow\",\n",
    "    \"README\": \"Ce projet utilise TensorFlow pour la classification d'images.\"\n",
    "}\n",
    "\n",
    "classify_new_data(\n",
    "    new_data[\"Nom du dépôt\"],\n",
    "    new_data[\"Topics\"],\n",
    "    new_data[\"Description\"],\n",
    "    new_data[\"README\"]\n",
    ")\n"
   ]
  },
  {
   "cell_type": "markdown",
   "metadata": {},
   "source": [
    "Code avec bert"
   ]
  },
  {
   "cell_type": "code",
   "execution_count": 41,
   "metadata": {},
   "outputs": [
    {
     "name": "stdout",
     "output_type": "stream",
     "text": [
      "   Topic  Count                               Name  \\\n",
      "0      0    940              0_data_use_code_using   \n",
      "1      1    108  1_whitecheckmark_github_python_ai   \n",
      "\n",
      "                                      Representation  \\\n",
      "0  [data, use, code, using, python, library, yes,...   \n",
      "1  [whitecheckmark, github, python, ai, android, ...   \n",
      "\n",
      "                                 Representative_Docs  \n",
      "0  [awesome awesome lists kinds interesting topic...  \n",
      "1  [awesomepythoncn python资源大全中文版包括web框架网络爬虫模板引擎数...  \n"
     ]
    },
    {
     "data": {
      "application/vnd.plotly.v1+json": {
       "config": {
        "plotlyServerURL": "https://plot.ly"
       },
       "data": [
        {
         "marker": {
          "color": "#D55E00"
         },
         "orientation": "h",
         "type": "bar",
         "x": [
          0.01563988099278463,
          0.020223033948410008,
          0.022984769753267142,
          0.025029458692027357,
          0.025591594750846304
         ],
         "xaxis": "x",
         "y": [
          "python  ",
          "using  ",
          "code  ",
          "use  ",
          "data  "
         ],
         "yaxis": "y"
        },
        {
         "marker": {
          "color": "#0072B2"
         },
         "orientation": "h",
         "type": "bar",
         "x": [
          0.05544670330961029,
          0.056026917414817363,
          0.0799084059378528,
          0.1236348109877945,
          0.17830887511141424
         ],
         "xaxis": "x2",
         "y": [
          "android  ",
          "ai  ",
          "python  ",
          "github  ",
          "whitecheckmark  "
         ],
         "yaxis": "y2"
        }
       ],
       "layout": {
        "annotations": [
         {
          "font": {
           "size": 16
          },
          "showarrow": false,
          "text": "Topic 0",
          "x": 0.0875,
          "xanchor": "center",
          "xref": "paper",
          "y": 1,
          "yanchor": "bottom",
          "yref": "paper"
         },
         {
          "font": {
           "size": 16
          },
          "showarrow": false,
          "text": "Topic 1",
          "x": 0.36250000000000004,
          "xanchor": "center",
          "xref": "paper",
          "y": 1,
          "yanchor": "bottom",
          "yref": "paper"
         }
        ],
        "height": 325,
        "hoverlabel": {
         "bgcolor": "white",
         "font": {
          "family": "Rockwell",
          "size": 16
         }
        },
        "showlegend": false,
        "template": {
         "data": {
          "bar": [
           {
            "error_x": {
             "color": "#2a3f5f"
            },
            "error_y": {
             "color": "#2a3f5f"
            },
            "marker": {
             "line": {
              "color": "white",
              "width": 0.5
             },
             "pattern": {
              "fillmode": "overlay",
              "size": 10,
              "solidity": 0.2
             }
            },
            "type": "bar"
           }
          ],
          "barpolar": [
           {
            "marker": {
             "line": {
              "color": "white",
              "width": 0.5
             },
             "pattern": {
              "fillmode": "overlay",
              "size": 10,
              "solidity": 0.2
             }
            },
            "type": "barpolar"
           }
          ],
          "carpet": [
           {
            "aaxis": {
             "endlinecolor": "#2a3f5f",
             "gridcolor": "#C8D4E3",
             "linecolor": "#C8D4E3",
             "minorgridcolor": "#C8D4E3",
             "startlinecolor": "#2a3f5f"
            },
            "baxis": {
             "endlinecolor": "#2a3f5f",
             "gridcolor": "#C8D4E3",
             "linecolor": "#C8D4E3",
             "minorgridcolor": "#C8D4E3",
             "startlinecolor": "#2a3f5f"
            },
            "type": "carpet"
           }
          ],
          "choropleth": [
           {
            "colorbar": {
             "outlinewidth": 0,
             "ticks": ""
            },
            "type": "choropleth"
           }
          ],
          "contour": [
           {
            "colorbar": {
             "outlinewidth": 0,
             "ticks": ""
            },
            "colorscale": [
             [
              0,
              "#0d0887"
             ],
             [
              0.1111111111111111,
              "#46039f"
             ],
             [
              0.2222222222222222,
              "#7201a8"
             ],
             [
              0.3333333333333333,
              "#9c179e"
             ],
             [
              0.4444444444444444,
              "#bd3786"
             ],
             [
              0.5555555555555556,
              "#d8576b"
             ],
             [
              0.6666666666666666,
              "#ed7953"
             ],
             [
              0.7777777777777778,
              "#fb9f3a"
             ],
             [
              0.8888888888888888,
              "#fdca26"
             ],
             [
              1,
              "#f0f921"
             ]
            ],
            "type": "contour"
           }
          ],
          "contourcarpet": [
           {
            "colorbar": {
             "outlinewidth": 0,
             "ticks": ""
            },
            "type": "contourcarpet"
           }
          ],
          "heatmap": [
           {
            "colorbar": {
             "outlinewidth": 0,
             "ticks": ""
            },
            "colorscale": [
             [
              0,
              "#0d0887"
             ],
             [
              0.1111111111111111,
              "#46039f"
             ],
             [
              0.2222222222222222,
              "#7201a8"
             ],
             [
              0.3333333333333333,
              "#9c179e"
             ],
             [
              0.4444444444444444,
              "#bd3786"
             ],
             [
              0.5555555555555556,
              "#d8576b"
             ],
             [
              0.6666666666666666,
              "#ed7953"
             ],
             [
              0.7777777777777778,
              "#fb9f3a"
             ],
             [
              0.8888888888888888,
              "#fdca26"
             ],
             [
              1,
              "#f0f921"
             ]
            ],
            "type": "heatmap"
           }
          ],
          "histogram": [
           {
            "marker": {
             "pattern": {
              "fillmode": "overlay",
              "size": 10,
              "solidity": 0.2
             }
            },
            "type": "histogram"
           }
          ],
          "histogram2d": [
           {
            "colorbar": {
             "outlinewidth": 0,
             "ticks": ""
            },
            "colorscale": [
             [
              0,
              "#0d0887"
             ],
             [
              0.1111111111111111,
              "#46039f"
             ],
             [
              0.2222222222222222,
              "#7201a8"
             ],
             [
              0.3333333333333333,
              "#9c179e"
             ],
             [
              0.4444444444444444,
              "#bd3786"
             ],
             [
              0.5555555555555556,
              "#d8576b"
             ],
             [
              0.6666666666666666,
              "#ed7953"
             ],
             [
              0.7777777777777778,
              "#fb9f3a"
             ],
             [
              0.8888888888888888,
              "#fdca26"
             ],
             [
              1,
              "#f0f921"
             ]
            ],
            "type": "histogram2d"
           }
          ],
          "histogram2dcontour": [
           {
            "colorbar": {
             "outlinewidth": 0,
             "ticks": ""
            },
            "colorscale": [
             [
              0,
              "#0d0887"
             ],
             [
              0.1111111111111111,
              "#46039f"
             ],
             [
              0.2222222222222222,
              "#7201a8"
             ],
             [
              0.3333333333333333,
              "#9c179e"
             ],
             [
              0.4444444444444444,
              "#bd3786"
             ],
             [
              0.5555555555555556,
              "#d8576b"
             ],
             [
              0.6666666666666666,
              "#ed7953"
             ],
             [
              0.7777777777777778,
              "#fb9f3a"
             ],
             [
              0.8888888888888888,
              "#fdca26"
             ],
             [
              1,
              "#f0f921"
             ]
            ],
            "type": "histogram2dcontour"
           }
          ],
          "mesh3d": [
           {
            "colorbar": {
             "outlinewidth": 0,
             "ticks": ""
            },
            "type": "mesh3d"
           }
          ],
          "parcoords": [
           {
            "line": {
             "colorbar": {
              "outlinewidth": 0,
              "ticks": ""
             }
            },
            "type": "parcoords"
           }
          ],
          "pie": [
           {
            "automargin": true,
            "type": "pie"
           }
          ],
          "scatter": [
           {
            "fillpattern": {
             "fillmode": "overlay",
             "size": 10,
             "solidity": 0.2
            },
            "type": "scatter"
           }
          ],
          "scatter3d": [
           {
            "line": {
             "colorbar": {
              "outlinewidth": 0,
              "ticks": ""
             }
            },
            "marker": {
             "colorbar": {
              "outlinewidth": 0,
              "ticks": ""
             }
            },
            "type": "scatter3d"
           }
          ],
          "scattercarpet": [
           {
            "marker": {
             "colorbar": {
              "outlinewidth": 0,
              "ticks": ""
             }
            },
            "type": "scattercarpet"
           }
          ],
          "scattergeo": [
           {
            "marker": {
             "colorbar": {
              "outlinewidth": 0,
              "ticks": ""
             }
            },
            "type": "scattergeo"
           }
          ],
          "scattergl": [
           {
            "marker": {
             "colorbar": {
              "outlinewidth": 0,
              "ticks": ""
             }
            },
            "type": "scattergl"
           }
          ],
          "scattermap": [
           {
            "marker": {
             "colorbar": {
              "outlinewidth": 0,
              "ticks": ""
             }
            },
            "type": "scattermap"
           }
          ],
          "scattermapbox": [
           {
            "marker": {
             "colorbar": {
              "outlinewidth": 0,
              "ticks": ""
             }
            },
            "type": "scattermapbox"
           }
          ],
          "scatterpolar": [
           {
            "marker": {
             "colorbar": {
              "outlinewidth": 0,
              "ticks": ""
             }
            },
            "type": "scatterpolar"
           }
          ],
          "scatterpolargl": [
           {
            "marker": {
             "colorbar": {
              "outlinewidth": 0,
              "ticks": ""
             }
            },
            "type": "scatterpolargl"
           }
          ],
          "scatterternary": [
           {
            "marker": {
             "colorbar": {
              "outlinewidth": 0,
              "ticks": ""
             }
            },
            "type": "scatterternary"
           }
          ],
          "surface": [
           {
            "colorbar": {
             "outlinewidth": 0,
             "ticks": ""
            },
            "colorscale": [
             [
              0,
              "#0d0887"
             ],
             [
              0.1111111111111111,
              "#46039f"
             ],
             [
              0.2222222222222222,
              "#7201a8"
             ],
             [
              0.3333333333333333,
              "#9c179e"
             ],
             [
              0.4444444444444444,
              "#bd3786"
             ],
             [
              0.5555555555555556,
              "#d8576b"
             ],
             [
              0.6666666666666666,
              "#ed7953"
             ],
             [
              0.7777777777777778,
              "#fb9f3a"
             ],
             [
              0.8888888888888888,
              "#fdca26"
             ],
             [
              1,
              "#f0f921"
             ]
            ],
            "type": "surface"
           }
          ],
          "table": [
           {
            "cells": {
             "fill": {
              "color": "#EBF0F8"
             },
             "line": {
              "color": "white"
             }
            },
            "header": {
             "fill": {
              "color": "#C8D4E3"
             },
             "line": {
              "color": "white"
             }
            },
            "type": "table"
           }
          ]
         },
         "layout": {
          "annotationdefaults": {
           "arrowcolor": "#2a3f5f",
           "arrowhead": 0,
           "arrowwidth": 1
          },
          "autotypenumbers": "strict",
          "coloraxis": {
           "colorbar": {
            "outlinewidth": 0,
            "ticks": ""
           }
          },
          "colorscale": {
           "diverging": [
            [
             0,
             "#8e0152"
            ],
            [
             0.1,
             "#c51b7d"
            ],
            [
             0.2,
             "#de77ae"
            ],
            [
             0.3,
             "#f1b6da"
            ],
            [
             0.4,
             "#fde0ef"
            ],
            [
             0.5,
             "#f7f7f7"
            ],
            [
             0.6,
             "#e6f5d0"
            ],
            [
             0.7,
             "#b8e186"
            ],
            [
             0.8,
             "#7fbc41"
            ],
            [
             0.9,
             "#4d9221"
            ],
            [
             1,
             "#276419"
            ]
           ],
           "sequential": [
            [
             0,
             "#0d0887"
            ],
            [
             0.1111111111111111,
             "#46039f"
            ],
            [
             0.2222222222222222,
             "#7201a8"
            ],
            [
             0.3333333333333333,
             "#9c179e"
            ],
            [
             0.4444444444444444,
             "#bd3786"
            ],
            [
             0.5555555555555556,
             "#d8576b"
            ],
            [
             0.6666666666666666,
             "#ed7953"
            ],
            [
             0.7777777777777778,
             "#fb9f3a"
            ],
            [
             0.8888888888888888,
             "#fdca26"
            ],
            [
             1,
             "#f0f921"
            ]
           ],
           "sequentialminus": [
            [
             0,
             "#0d0887"
            ],
            [
             0.1111111111111111,
             "#46039f"
            ],
            [
             0.2222222222222222,
             "#7201a8"
            ],
            [
             0.3333333333333333,
             "#9c179e"
            ],
            [
             0.4444444444444444,
             "#bd3786"
            ],
            [
             0.5555555555555556,
             "#d8576b"
            ],
            [
             0.6666666666666666,
             "#ed7953"
            ],
            [
             0.7777777777777778,
             "#fb9f3a"
            ],
            [
             0.8888888888888888,
             "#fdca26"
            ],
            [
             1,
             "#f0f921"
            ]
           ]
          },
          "colorway": [
           "#636efa",
           "#EF553B",
           "#00cc96",
           "#ab63fa",
           "#FFA15A",
           "#19d3f3",
           "#FF6692",
           "#B6E880",
           "#FF97FF",
           "#FECB52"
          ],
          "font": {
           "color": "#2a3f5f"
          },
          "geo": {
           "bgcolor": "white",
           "lakecolor": "white",
           "landcolor": "white",
           "showlakes": true,
           "showland": true,
           "subunitcolor": "#C8D4E3"
          },
          "hoverlabel": {
           "align": "left"
          },
          "hovermode": "closest",
          "mapbox": {
           "style": "light"
          },
          "paper_bgcolor": "white",
          "plot_bgcolor": "white",
          "polar": {
           "angularaxis": {
            "gridcolor": "#EBF0F8",
            "linecolor": "#EBF0F8",
            "ticks": ""
           },
           "bgcolor": "white",
           "radialaxis": {
            "gridcolor": "#EBF0F8",
            "linecolor": "#EBF0F8",
            "ticks": ""
           }
          },
          "scene": {
           "xaxis": {
            "backgroundcolor": "white",
            "gridcolor": "#DFE8F3",
            "gridwidth": 2,
            "linecolor": "#EBF0F8",
            "showbackground": true,
            "ticks": "",
            "zerolinecolor": "#EBF0F8"
           },
           "yaxis": {
            "backgroundcolor": "white",
            "gridcolor": "#DFE8F3",
            "gridwidth": 2,
            "linecolor": "#EBF0F8",
            "showbackground": true,
            "ticks": "",
            "zerolinecolor": "#EBF0F8"
           },
           "zaxis": {
            "backgroundcolor": "white",
            "gridcolor": "#DFE8F3",
            "gridwidth": 2,
            "linecolor": "#EBF0F8",
            "showbackground": true,
            "ticks": "",
            "zerolinecolor": "#EBF0F8"
           }
          },
          "shapedefaults": {
           "line": {
            "color": "#2a3f5f"
           }
          },
          "ternary": {
           "aaxis": {
            "gridcolor": "#DFE8F3",
            "linecolor": "#A2B1C6",
            "ticks": ""
           },
           "baxis": {
            "gridcolor": "#DFE8F3",
            "linecolor": "#A2B1C6",
            "ticks": ""
           },
           "bgcolor": "white",
           "caxis": {
            "gridcolor": "#DFE8F3",
            "linecolor": "#A2B1C6",
            "ticks": ""
           }
          },
          "title": {
           "x": 0.05
          },
          "xaxis": {
           "automargin": true,
           "gridcolor": "#EBF0F8",
           "linecolor": "#EBF0F8",
           "ticks": "",
           "title": {
            "standoff": 15
           },
           "zerolinecolor": "#EBF0F8",
           "zerolinewidth": 2
          },
          "yaxis": {
           "automargin": true,
           "gridcolor": "#EBF0F8",
           "linecolor": "#EBF0F8",
           "ticks": "",
           "title": {
            "standoff": 15
           },
           "zerolinecolor": "#EBF0F8",
           "zerolinewidth": 2
          }
         }
        },
        "title": {
         "font": {
          "color": "Black",
          "size": 22
         },
         "text": "Topic Word Scores",
         "x": 0.5,
         "xanchor": "center",
         "yanchor": "top"
        },
        "width": 1000,
        "xaxis": {
         "anchor": "y",
         "domain": [
          0,
          0.175
         ],
         "showgrid": true
        },
        "xaxis2": {
         "anchor": "y2",
         "domain": [
          0.275,
          0.45
         ],
         "showgrid": true
        },
        "xaxis3": {
         "anchor": "y3",
         "domain": [
          0.55,
          0.7250000000000001
         ],
         "showgrid": true
        },
        "xaxis4": {
         "anchor": "y4",
         "domain": [
          0.825,
          1
         ],
         "showgrid": true
        },
        "yaxis": {
         "anchor": "x",
         "domain": [
          0,
          1
         ],
         "showgrid": true
        },
        "yaxis2": {
         "anchor": "x2",
         "domain": [
          0,
          1
         ],
         "showgrid": true
        },
        "yaxis3": {
         "anchor": "x3",
         "domain": [
          0,
          1
         ],
         "showgrid": true
        },
        "yaxis4": {
         "anchor": "x4",
         "domain": [
          0,
          1
         ],
         "showgrid": true
        }
       }
      }
     },
     "metadata": {},
     "output_type": "display_data"
    }
   ],
   "source": [
    "from bertopic import BERTopic\n",
    "from sentence_transformers import SentenceTransformer\n",
    "\n",
    "documents_clean = (df[\"cleaned_text\"])\n",
    "# Charger un modèle de Sentence Transformers - embeddings plus riches\n",
    "model = SentenceTransformer('all-MiniLM-L6-v2')\n",
    "\n",
    "# Convertir les textes en embeddings\n",
    "embeddings = model.encode(df[\"cleaned_text\"].tolist())\n",
    "# Appliquer BERTopic\n",
    "topic_model = BERTopic(min_topic_size=25)  # Ignore les thèmes avec moins de 10 documents\n",
    "\n",
    "topics, probs = topic_model.fit_transform(documents_clean, embeddings)\n",
    "\n",
    "topic_model.reduce_topics(documents_clean, nr_topics=3)  # Réduit à 10 thèmes principaux\n",
    "\n",
    "\n",
    "# Afficher les principaux thèmes\n",
    "print(topic_model.get_topic_info())\n",
    "\n",
    "# Visualisation interactive des thèmes\n",
    "topic_model.visualize_barchart(top_n_topics=5)\n"
   ]
  },
  {
   "cell_type": "code",
   "execution_count": null,
   "metadata": {},
   "outputs": [],
   "source": [
    "\n"
   ]
  },
  {
   "cell_type": "code",
   "execution_count": null,
   "metadata": {},
   "outputs": [],
   "source": []
  }
 ],
 "metadata": {
  "kernelspec": {
   "display_name": "base",
   "language": "python",
   "name": "python3"
  },
  "language_info": {
   "codemirror_mode": {
    "name": "ipython",
    "version": 3
   },
   "file_extension": ".py",
   "mimetype": "text/x-python",
   "name": "python",
   "nbconvert_exporter": "python",
   "pygments_lexer": "ipython3",
   "version": "3.11.4"
  }
 },
 "nbformat": 4,
 "nbformat_minor": 2
}
