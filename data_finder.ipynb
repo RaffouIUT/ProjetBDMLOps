{
 "cells": [
  {
   "cell_type": "markdown",
   "metadata": {},
   "source": [
    "**Fichier pour prendre des données de github**"
   ]
  },
  {
   "cell_type": "code",
   "execution_count": 1,
   "metadata": {},
   "outputs": [],
   "source": [
    "#import\n",
    "from requests.auth import HTTPBasicAuth\n",
    "from fastapi import FastAPI\n",
    "import uvicorn\n",
    "from elasticsearch import Elasticsearch\n",
    "import nest_asyncio\n",
    "from pymongo import MongoClient"
   ]
  },
  {
   "cell_type": "code",
   "execution_count": null,
   "metadata": {},
   "outputs": [],
   "source": [
    "app = FastAPI()\n",
    "\n",
    "\n",
    "username = \"elastic\"\n",
    "password = \"password\"\n",
    "es = Elasticsearch(\"http://localhost:9200\",\n",
    "                   http_auth=HTTPBasicAuth(username, password),\n",
    "                  node_class='requests')"
   ]
  },
  {
   "cell_type": "code",
   "execution_count": 3,
   "metadata": {},
   "outputs": [],
   "source": [
    "@app.get(\"/\")\n",
    "async def read_root():\n",
    "    return {\"message\": \"Welcome to the API github data finder\"}"
   ]
  },
  {
   "cell_type": "code",
   "execution_count": 4,
   "metadata": {},
   "outputs": [],
   "source": [
    "@app.get(\"/test\")\n",
    "def test_api():\n",
    "    \n",
    "    return {\"message\": \"API test successfully\"}"
   ]
  },
  {
   "cell_type": "code",
   "execution_count": 5,
   "metadata": {},
   "outputs": [],
   "source": [
    "\n",
    "\n",
    "def transform_document(doc):\n",
    "    \"\"\"Convertir ObjectId en string pour JSON\"\"\"\n",
    "    if \"_id\" in doc:\n",
    "        doc[\"_id\"] = str(doc[\"_id\"])\n",
    "    return doc\n",
    "\n",
    "def get_collection():\n",
    "    client = MongoClient(\"mongodb://127.0.0.1:27017\")\n",
    "    db = client[\"my_database\"]\n",
    "    return db[\"my_collection\"]\n",
    "\n"
   ]
  },
  {
   "cell_type": "code",
   "execution_count": 6,
   "metadata": {},
   "outputs": [],
   "source": [
    "@app.get(\"/access_mongo\")\n",
    "\n",
    "def access_mongo():\n",
    "    # Récupérer un document de la collection\n",
    "    collection = get_collection()\n",
    "    document = collection.find_one()\n",
    "    if document:\n",
    "        document = transform_document(document)\n",
    "    return document"
   ]
  },
  {
   "cell_type": "code",
   "execution_count": 7,
   "metadata": {},
   "outputs": [],
   "source": [
    "@app.get(\"/search_mongo\")\n",
    "\n",
    "def search_mongo():\n",
    "    # Rechercher des documents dans la collection\n",
    "    collection = get_collection()\n",
    "    documents = collection.find()\n",
    "    documents = [transform_document(doc) for doc in documents]\n",
    "    return documents"
   ]
  },
  {
   "cell_type": "code",
   "execution_count": 8,
   "metadata": {},
   "outputs": [
    {
     "name": "stderr",
     "output_type": "stream",
     "text": [
      "INFO:     Started server process [10676]\n",
      "INFO:     Waiting for application startup.\n",
      "INFO:     Application startup complete.\n",
      "INFO:     Uvicorn running on http://localhost:8000 (Press CTRL+C to quit)\n"
     ]
    },
    {
     "name": "stdout",
     "output_type": "stream",
     "text": [
      "INFO:     ::1:54342 - \"GET /search_mongo HTTP/1.1\" 200 OK\n",
      "INFO:     ::1:54367 - \"GET /access_mongo HTTP/1.1\" 200 OK\n"
     ]
    },
    {
     "name": "stderr",
     "output_type": "stream",
     "text": [
      "INFO:     Shutting down\n",
      "INFO:     Waiting for application shutdown.\n",
      "INFO:     Application shutdown complete.\n",
      "INFO:     Finished server process [10676]\n"
     ]
    }
   ],
   "source": [
    "nest_asyncio.apply()\n",
    "    \n",
    "uvicorn.run(app, host=\"localhost\", port=8000)"
   ]
  },
  {
   "cell_type": "code",
   "execution_count": null,
   "metadata": {},
   "outputs": [],
   "source": []
  }
 ],
 "metadata": {
  "kernelspec": {
   "display_name": "base",
   "language": "python",
   "name": "python3"
  },
  "language_info": {
   "codemirror_mode": {
    "name": "ipython",
    "version": 3
   },
   "file_extension": ".py",
   "mimetype": "text/x-python",
   "name": "python",
   "nbconvert_exporter": "python",
   "pygments_lexer": "ipython3",
   "version": "3.11.4"
  }
 },
 "nbformat": 4,
 "nbformat_minor": 2
}
