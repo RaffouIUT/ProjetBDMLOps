{
 "cells": [
  {
   "cell_type": "markdown",
   "metadata": {},
   "source": [
    "**Fichier pour prendre des données de github**"
   ]
  },
  {
   "cell_type": "code",
   "execution_count": 11,
   "metadata": {},
   "outputs": [
    {
     "name": "stdout",
     "output_type": "stream",
     "text": [
      "Collecting pymongoNote: you may need to restart the kernel to use updated packages.\n",
      "\n",
      "  Downloading pymongo-4.10.1-cp311-cp311-win_amd64.whl (876 kB)\n",
      "                                              0.0/876.5 kB ? eta -:--:--\n",
      "     -                                       30.7/876.5 kB 1.3 MB/s eta 0:00:01\n",
      "     -                                     41.0/876.5 kB 487.6 kB/s eta 0:00:02\n",
      "     ---                                   92.2/876.5 kB 744.7 kB/s eta 0:00:02\n",
      "     --------                               194.6/876.5 kB 1.2 MB/s eta 0:00:01\n",
      "     -------------                          317.4/876.5 kB 1.4 MB/s eta 0:00:01\n",
      "     -------------------                    450.6/876.5 kB 1.7 MB/s eta 0:00:01\n",
      "     ---------------------                  501.8/876.5 kB 1.6 MB/s eta 0:00:01\n",
      "     -----------------------------          686.1/876.5 kB 2.0 MB/s eta 0:00:01\n",
      "     ---------------------------------      768.0/876.5 kB 2.0 MB/s eta 0:00:01\n",
      "     -------------------------------------- 876.5/876.5 kB 2.0 MB/s eta 0:00:00\n",
      "Collecting dnspython<3.0.0,>=1.16.0 (from pymongo)\n",
      "  Downloading dnspython-2.7.0-py3-none-any.whl (313 kB)\n",
      "                                              0.0/313.6 kB ? eta -:--:--\n",
      "     -------                                 61.4/313.6 kB 1.6 MB/s eta 0:00:01\n",
      "     --------------------------------       266.2/313.6 kB 3.2 MB/s eta 0:00:01\n",
      "     -------------------------------------- 313.6/313.6 kB 3.8 MB/s eta 0:00:00\n",
      "Installing collected packages: dnspython, pymongo\n",
      "Successfully installed dnspython-2.7.0 pymongo-4.10.1\n"
     ]
    }
   ],
   "source": [
    "%pip install pymongo"
   ]
  },
  {
   "cell_type": "code",
   "execution_count": 1,
   "metadata": {},
   "outputs": [],
   "source": [
    "#import\n",
    "from requests.auth import HTTPBasicAuth\n",
    "from fastapi import FastAPI\n",
    "import uvicorn\n",
    "from elasticsearch import Elasticsearch\n",
    "import nest_asyncio\n",
    "from pymongo import MongoClient"
   ]
  },
  {
   "cell_type": "code",
   "execution_count": 2,
   "metadata": {},
   "outputs": [],
   "source": [
    "app = FastAPI()\n",
    "\n",
    "\n",
    "username = \"elastic\"\n",
    "password = \"password\"\n",
    "es = Elasticsearch(\"http://localhost:9200\",\n",
    "                   http_auth=HTTPBasicAuth(username, password),\n",
    "                  node_class='requests')"
   ]
  },
  {
   "cell_type": "code",
   "execution_count": 3,
   "metadata": {},
   "outputs": [],
   "source": [
    "@app.get(\"/\")\n",
    "async def read_root():\n",
    "    return {\"message\": \"Welcome to the API github data finder\"}"
   ]
  },
  {
   "cell_type": "code",
   "execution_count": 4,
   "metadata": {},
   "outputs": [],
   "source": [
    "@app.get(\"/test\")\n",
    "def test_api():\n",
    "    \n",
    "    return {\"message\": \"API test successfully\"}"
   ]
  },
  {
   "cell_type": "code",
   "execution_count": 5,
   "metadata": {},
   "outputs": [],
   "source": [
    "\n",
    "\n",
    "def transform_document(doc):\n",
    "    \"\"\"Convertir ObjectId en string pour JSON\"\"\"\n",
    "    if \"_id\" in doc:\n",
    "        doc[\"_id\"] = str(doc[\"_id\"])\n",
    "    return doc\n",
    "\n",
    "def get_collection():\n",
    "    client = MongoClient(\"mongodb://127.0.0.1:27017\")\n",
    "    db = client[\"my_database\"]\n",
    "    return db[\"my_collection\"]\n",
    "\n"
   ]
  },
  {
   "cell_type": "code",
   "execution_count": 6,
   "metadata": {},
   "outputs": [],
   "source": [
    "@app.get(\"/access_mongo\")\n",
    "\n",
    "def access_mongo():\n",
    "    # Récupérer un document de la collection\n",
    "    collection = get_collection()\n",
    "    document = collection.find_one()\n",
    "    if document:\n",
    "        document = transform_document(document)\n",
    "    return document"
   ]
  },
  {
   "cell_type": "code",
   "execution_count": 7,
   "metadata": {},
   "outputs": [],
   "source": [
    "@app.get(\"/search_mongo\")\n",
    "\n",
    "def search_mongo():\n",
    "    # Rechercher des documents dans la collection\n",
    "    collection = get_collection()\n",
    "    documents = collection.find()\n",
    "    documents = [transform_document(doc) for doc in documents]\n",
    "    return documents"
   ]
  },
  {
   "cell_type": "code",
   "execution_count": 8,
   "metadata": {},
   "outputs": [
    {
     "name": "stderr",
     "output_type": "stream",
     "text": [
      "INFO:     Started server process [10676]\n",
      "INFO:     Waiting for application startup.\n",
      "INFO:     Application startup complete.\n",
      "INFO:     Uvicorn running on http://localhost:8000 (Press CTRL+C to quit)\n"
     ]
    },
    {
     "name": "stdout",
     "output_type": "stream",
     "text": [
      "INFO:     ::1:54342 - \"GET /search_mongo HTTP/1.1\" 200 OK\n",
      "INFO:     ::1:54367 - \"GET /access_mongo HTTP/1.1\" 200 OK\n"
     ]
    },
    {
     "name": "stderr",
     "output_type": "stream",
     "text": [
      "INFO:     Shutting down\n",
      "INFO:     Waiting for application shutdown.\n",
      "INFO:     Application shutdown complete.\n",
      "INFO:     Finished server process [10676]\n"
     ]
    }
   ],
   "source": [
    "nest_asyncio.apply()\n",
    "    \n",
    "uvicorn.run(app, host=\"localhost\", port=8000)"
   ]
  },
  {
   "cell_type": "code",
   "execution_count": null,
   "metadata": {},
   "outputs": [],
   "source": []
  }
 ],
 "metadata": {
  "kernelspec": {
   "display_name": "base",
   "language": "python",
   "name": "python3"
  },
  "language_info": {
   "codemirror_mode": {
    "name": "ipython",
    "version": 3
   },
   "file_extension": ".py",
   "mimetype": "text/x-python",
   "name": "python",
   "nbconvert_exporter": "python",
   "pygments_lexer": "ipython3",
   "version": "3.12.4"
  }
 },
 "nbformat": 4,
 "nbformat_minor": 2
}
